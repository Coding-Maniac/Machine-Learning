{
  "nbformat": 4,
  "nbformat_minor": 0,
  "metadata": {
    "colab": {
      "name": "MyFirstModel.ipynb",
      "version": "0.3.2",
      "provenance": [],
      "collapsed_sections": [],
      "include_colab_link": true
    },
    "kernelspec": {
      "name": "python3",
      "display_name": "Python 3"
    }
  },
  "cells": [
    {
      "cell_type": "markdown",
      "metadata": {
        "id": "view-in-github",
        "colab_type": "text"
      },
      "source": [
        "<a href=\"https://colab.research.google.com/github/Coding-Maniac/Machine-Learning/blob/master/MyFirstModel.ipynb\" target=\"_parent\"><img src=\"https://colab.research.google.com/assets/colab-badge.svg\" alt=\"Open In Colab\"/></a>"
      ]
    },
    {
      "cell_type": "markdown",
      "metadata": {
        "id": "v0Gi_o8vBdq-",
        "colab_type": "text"
      },
      "source": [
        "# **The Equation Finding Model**\n",
        "*The below model just finds the relationship between the input and output numbers*\n",
        "\n",
        "Import TensorFlow\n"
      ]
    },
    {
      "cell_type": "code",
      "metadata": {
        "id": "G3bRkRo15Xbe",
        "colab_type": "code",
        "colab": {}
      },
      "source": [
        "import tensorflow as tf\n",
        "import numpy as np\n",
        "import logging\n",
        "loggin = tf.get_logger()\n",
        "loggin.setLevel(logging.ERROR)\n"
      ],
      "execution_count": 0,
      "outputs": []
    },
    {
      "cell_type": "markdown",
      "metadata": {
        "id": "Z7bKWyx5CD7C",
        "colab_type": "text"
      },
      "source": [
        "Feed the input and output to the model"
      ]
    },
    {
      "cell_type": "code",
      "metadata": {
        "id": "dr1-ashB6EQP",
        "colab_type": "code",
        "colab": {
          "base_uri": "https://localhost:8080/",
          "height": 286
        },
        "outputId": "6941568a-df56-4acf-c078-a13e44db4710"
      },
      "source": [
        "a = np.array([0, 3 , 2 , 1.25 , 7.9 , 3.12 , 5 ,  12] , dtype = float)\n",
        "b = np.array([9, 19.8 ,16.2 , 13.5 , 37.44 ,20.23 , 27 ,52.2] , dtype = float)\n",
        "for i,c in enumerate(a):\n",
        "  print(\"The Input is {} \\n The output is {}\".format(c,b[i]))"
      ],
      "execution_count": 2,
      "outputs": [
        {
          "output_type": "stream",
          "text": [
            "The Input is 0.0 \n",
            " The output is 9.0\n",
            "The Input is 3.0 \n",
            " The output is 19.8\n",
            "The Input is 2.0 \n",
            " The output is 16.2\n",
            "The Input is 1.25 \n",
            " The output is 13.5\n",
            "The Input is 7.9 \n",
            " The output is 37.44\n",
            "The Input is 3.12 \n",
            " The output is 20.23\n",
            "The Input is 5.0 \n",
            " The output is 27.0\n",
            "The Input is 12.0 \n",
            " The output is 52.2\n"
          ],
          "name": "stdout"
        }
      ]
    },
    {
      "cell_type": "markdown",
      "metadata": {
        "id": "LxOKfwgyCMVo",
        "colab_type": "text"
      },
      "source": [
        "Train the Layers\n",
        "\n",
        "Here\n",
        "\n",
        "**unit is the number of neruons or the size of final output**\n",
        "\n",
        "**input_shape as the name suggests its the size of the input**"
      ]
    },
    {
      "cell_type": "code",
      "metadata": {
        "id": "M_7UqMS99xLO",
        "colab_type": "code",
        "colab": {}
      },
      "source": [
        "layer= tf.keras.layers.Dense(units = 1 ,input_shape = [1])"
      ],
      "execution_count": 0,
      "outputs": []
    },
    {
      "cell_type": "markdown",
      "metadata": {
        "id": "F-lQVWQtDsoW",
        "colab_type": "text"
      },
      "source": [
        "The layers are combined sequentially to form a model"
      ]
    },
    {
      "cell_type": "code",
      "metadata": {
        "id": "sTgllMVx-I0K",
        "colab_type": "code",
        "colab": {}
      },
      "source": [
        "model = tf.keras.Sequential([layer])"
      ],
      "execution_count": 0,
      "outputs": []
    },
    {
      "cell_type": "markdown",
      "metadata": {
        "id": "VoDB9f5wD04-",
        "colab_type": "text"
      },
      "source": [
        "The model is compiled with loss and optimizer to minimize the loss"
      ]
    },
    {
      "cell_type": "code",
      "metadata": {
        "id": "HesDnKHy-X0W",
        "colab_type": "code",
        "colab": {}
      },
      "source": [
        "model.compile(loss = \"mean_squared_error\",\n",
        "             optimizer = tf.keras.optimizers.Adam(0.1))"
      ],
      "execution_count": 0,
      "outputs": []
    },
    {
      "cell_type": "markdown",
      "metadata": {
        "id": "hWnadd5MERvF",
        "colab_type": "text"
      },
      "source": [
        "The model is trained with with input (a) and output(b)\n",
        " \n",
        " epochs is the number of iterations\n",
        " \n",
        " Say\n",
        " 8 * 500 as we have 8 inputs and outputs\n",
        " \n",
        " The verbose function just controls the output\n",
        " Change verbose to True to view the training"
      ]
    },
    {
      "cell_type": "code",
      "metadata": {
        "id": "OfcPNCas-xlL",
        "colab_type": "code",
        "colab": {
          "base_uri": "https://localhost:8080/",
          "height": 34
        },
        "outputId": "bdb655d3-da7c-4dbd-f104-80b00779186b"
      },
      "source": [
        "trained = model.fit(a,b,epochs = 500,verbose =False)\n",
        "print(\"Finished Training the model\")"
      ],
      "execution_count": 6,
      "outputs": [
        {
          "output_type": "stream",
          "text": [
            "Finished Training the model\n"
          ],
          "name": "stdout"
        }
      ]
    },
    {
      "cell_type": "markdown",
      "metadata": {
        "id": "vX9nZgVbE8bj",
        "colab_type": "text"
      },
      "source": [
        "We use matplotlib function to have better visualisation about the Epochs and loss ratio"
      ]
    },
    {
      "cell_type": "code",
      "metadata": {
        "id": "rlrTsms2_DT4",
        "colab_type": "code",
        "colab": {
          "base_uri": "https://localhost:8080/",
          "height": 300
        },
        "outputId": "a50f62a7-b468-43ad-a021-baeb2ed0109f"
      },
      "source": [
        "import matplotlib.pyplot as plt\n",
        "plt.xlabel('Iterations')\n",
        "plt.ylabel('Loss Magnitude')\n",
        "plt.plot(trained.history['loss'])"
      ],
      "execution_count": 7,
      "outputs": [
        {
          "output_type": "execute_result",
          "data": {
            "text/plain": [
              "[<matplotlib.lines.Line2D at 0x7fa74d56e0b8>]"
            ]
          },
          "metadata": {
            "tags": []
          },
          "execution_count": 7
        },
        {
          "output_type": "display_data",
          "data": {
            "image/png": "[encoded data removed]",
            "text/plain": [
              "<Figure size 432x288 with 1 Axes>"
            ]
          },
          "metadata": {
            "tags": []
          }
        }
      ]
    },
    {
      "cell_type": "markdown",
      "metadata": {
        "id": "A9yZOqhsFMyb",
        "colab_type": "text"
      },
      "source": [
        "Now we predict the answer"
      ]
    },
    {
      "cell_type": "code",
      "metadata": {
        "id": "-BSHlR4b_WW0",
        "colab_type": "code",
        "colab": {
          "base_uri": "https://localhost:8080/",
          "height": 34
        },
        "outputId": "22ef1ca1-ed95-4b9e-ef7e-34a2e5ccea56"
      },
      "source": [
        "print(model.predict([4]))"
      ],
      "execution_count": 8,
      "outputs": [
        {
          "output_type": "stream",
          "text": [
            "[[23.368078]]\n"
          ],
          "name": "stdout"
        }
      ]
    },
    {
      "cell_type": "markdown",
      "metadata": {
        "id": "y4z-UEjUFQwY",
        "colab_type": "text"
      },
      "source": [
        "The model works just fine \n",
        "\n",
        "The equation is num*3.6+9\n",
        "\n",
        "so the actual output is 24 and predicted output is 23.32"
      ]
    },
    {
      "cell_type": "markdown",
      "metadata": {
        "id": "nEhxmIbFFgeD",
        "colab_type": "text"
      },
      "source": [
        "The layers are also known as weights in accordance to which the model is trained"
      ]
    },
    {
      "cell_type": "code",
      "metadata": {
        "id": "BZMDjEQ2ARCA",
        "colab_type": "code",
        "colab": {
          "base_uri": "https://localhost:8080/",
          "height": 34
        },
        "outputId": "3e794ec3-bff7-4095-9398-5b31beefd237"
      },
      "source": [
        "print(\"The layer variables : {}\".format(layer.get_weights()))"
      ],
      "execution_count": 9,
      "outputs": [
        {
          "output_type": "stream",
          "text": [
            "The layer variables : [array([[3.6106827]], dtype=float32), array([8.925347], dtype=float32)]\n"
          ],
          "name": "stdout"
        }
      ]
    },
    {
      "cell_type": "markdown",
      "metadata": {
        "id": "acuKhlBgBbUI",
        "colab_type": "text"
      },
      "source": [
        ""
      ]
    }
  ]
}