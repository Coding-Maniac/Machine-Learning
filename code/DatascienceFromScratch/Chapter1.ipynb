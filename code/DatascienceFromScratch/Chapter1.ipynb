{
 "cells": [
  {
   "cell_type": "code",
   "execution_count": 1,
   "metadata": {},
   "outputs": [],
   "source": [
    "#This notebook is my personal notes taken from the book. It is not used for any commercial purposes."
   ]
  },
  {
   "cell_type": "code",
   "execution_count": 2,
   "metadata": {},
   "outputs": [],
   "source": [
    "users = [\n",
    "    { \"id\": 0, \"name\": \"Hero\" },\n",
    "    { \"id\": 1, \"name\": \"Dunn\" },\n",
    "    { \"id\": 2, \"name\": \"Sue\" },\n",
    "    { \"id\": 3, \"name\": \"Chi\" },\n",
    "    { \"id\": 4, \"name\": \"Thor\" },\n",
    "    { \"id\": 5, \"name\": \"Clive\" },\n",
    "    { \"id\": 6, \"name\": \"Hicks\" },\n",
    "    { \"id\": 7, \"name\": \"Devin\" },\n",
    "    { \"id\": 8, \"name\": \"Kate\" },\n",
    "    { \"id\": 9, \"name\": \"Klein\" }\n",
    "]"
   ]
  },
  {
   "cell_type": "code",
   "execution_count": 3,
   "metadata": {},
   "outputs": [],
   "source": [
    "friendship_pairs = [(0, 1), (0, 2), (1, 2), (1, 3), (2, 3), (3, 4),\n",
    "                    (4, 5), (5, 6), (5, 7), (6, 8), (7, 8), (8, 9)]"
   ]
  },
  {
   "cell_type": "code",
   "execution_count": 4,
   "metadata": {},
   "outputs": [
    {
     "name": "stdout",
     "output_type": "stream",
     "text": [
      "{0: [1, 2], 1: [0, 2, 3], 2: [0, 1, 3], 3: [1, 2, 4], 4: [3, 5], 5: [4, 6, 7], 6: [5, 8], 7: [5, 8], 8: [6, 7, 9], 9: [8]}\n"
     ]
    }
   ],
   "source": [
    "friendship = {user['id'] :[] for user in users}\n",
    "for i,j in friendship_pairs:\n",
    "    friendship[i].append(j)\n",
    "    friendship[j].append(i)\n",
    "print(friendship)"
   ]
  },
  {
   "cell_type": "code",
   "execution_count": 5,
   "metadata": {},
   "outputs": [
    {
     "name": "stdout",
     "output_type": "stream",
     "text": [
      "The total number of connections is  24\n"
     ]
    }
   ],
   "source": [
    "def num_of_frnds(user):\n",
    "    user_id = user['id']\n",
    "    friends_id = friendship[user_id]\n",
    "    return len(friends_id)\n",
    "total_connections = sum(num_of_frnds(user) for user in users)\n",
    "print(\"The total number of connections is  {}\".format(total_connections))\n",
    "    "
   ]
  },
  {
   "cell_type": "code",
   "execution_count": 6,
   "metadata": {},
   "outputs": [
    {
     "name": "stdout",
     "output_type": "stream",
     "text": [
      "Average connection is 2.4\n"
     ]
    }
   ],
   "source": [
    "#To find average number of friends\n",
    "num_users = len(users)\n",
    "avg_conn = total_connections/num_users\n",
    "print(\"Average connection is {}\".format(avg_conn))"
   ]
  },
  {
   "cell_type": "code",
   "execution_count": 7,
   "metadata": {},
   "outputs": [
    {
     "name": "stdout",
     "output_type": "stream",
     "text": [
      "[(1, 3), (2, 3), (3, 3), (5, 3), (8, 3), (0, 2), (4, 2), (6, 2), (7, 2), (9, 1)]\n"
     ]
    }
   ],
   "source": [
    "#To find the person with highest number of friends\n",
    "num_friends_by_id = [(user[\"id\"], num_of_frnds(user)) for user in users ]\n",
    "num_friends_by_id.sort(key=lambda id_bois : id_bois[1],reverse=True) #The lambda function is used to specify to sort based on the second element\n",
    "print(num_friends_by_id)"
   ]
  },
  {
   "cell_type": "code",
   "execution_count": 8,
   "metadata": {},
   "outputs": [
    {
     "name": "stdout",
     "output_type": "stream",
     "text": [
      "The foaf of 0 is [0, 2, 3, 0, 1, 3]\n",
      "The foaf of 1 is [1, 2, 0, 1, 3, 1, 2, 4]\n",
      "The foaf of 2 is [1, 2, 0, 2, 3, 1, 2, 4]\n",
      "The foaf of 3 is [0, 2, 3, 0, 1, 3, 3, 5]\n",
      "The foaf of 4 is [1, 2, 4, 4, 6, 7]\n",
      "The foaf of 5 is [3, 5, 5, 8, 5, 8]\n",
      "The foaf of 6 is [4, 6, 7, 6, 7, 9]\n",
      "The foaf of 7 is [4, 6, 7, 6, 7, 9]\n",
      "The foaf of 8 is [5, 8, 5, 8, 8]\n",
      "The foaf of 9 is [6, 7, 9]\n"
     ]
    }
   ],
   "source": [
    "def foaf_ids_bad(user):\n",
    "    \"\"\"foaf is short for \"friend of a friend\" \"\"\"\n",
    "    return [foaf_id\n",
    "            for friend_id in friendship[user[\"id\"]]\n",
    "            for foaf_id in friendship[friend_id]]\n",
    "i=-1\n",
    "for user in users:\n",
    "    a=foaf_ids_bad(user)\n",
    "    i+=1\n",
    "    print(\"The foaf of {} is {}\".format(i,a))"
   ]
  },
  {
   "cell_type": "code",
   "execution_count": 9,
   "metadata": {},
   "outputs": [
    {
     "name": "stdout",
     "output_type": "stream",
     "text": [
      "Counter({0: 2, 5: 1})\n"
     ]
    }
   ],
   "source": [
    "from collections import Counter\n",
    "def frnds_of_frnds(user):\n",
    "    user_id = user['id']\n",
    "    return Counter(\n",
    "        foaf_id\n",
    "        for friend_id in friendship[user_id]\n",
    "        for foaf_id in friendship[friend_id]\n",
    "        if foaf_id != user_id \n",
    "        and foaf_id not in friendship[user_id]\n",
    "    )\n",
    "print(frnds_of_frnds(users[3]))"
   ]
  },
  {
   "cell_type": "code",
   "execution_count": 10,
   "metadata": {},
   "outputs": [
    {
     "name": "stdout",
     "output_type": "stream",
     "text": [
      "Counter({0: 2, 5: 1})\n"
     ]
    }
   ],
   "source": [
    "from collections import Counter                   # not loaded by default\n",
    "\n",
    "def friends_of_friends(user):\n",
    "    user_id = user[\"id\"]\n",
    "    return Counter(\n",
    "        foaf_id\n",
    "        for friend_id in friendship[user_id]     # For each of my friends,\n",
    "        for foaf_id in friendship[friend_id]     # find their friends\n",
    "        if foaf_id != user_id                     # who aren't me\n",
    "        and foaf_id not in friendship[user_id]   # and aren't my friends.\n",
    "    )\n",
    "print(friends_of_friends(users[3])) #This gives the number of mutual friends for each person\n",
    "#The below output states that 3 has \"2 mutual friends with 0 and one mutual friend with 1\""
   ]
  },
  {
   "cell_type": "code",
   "execution_count": 11,
   "metadata": {},
   "outputs": [
    {
     "name": "stdout",
     "output_type": "stream",
     "text": [
      "0\n",
      "0\n",
      "5\n"
     ]
    }
   ],
   "source": [
    "#Additional code for understanding Counter\n",
    "user_id =3\n",
    "for friend_id in friendship[user_id]:    # For each of my friends,\n",
    "    for foaf_id in friendship[friend_id]:     # find their friends\n",
    "        if foaf_id != user_id and foaf_id not in friendship[user_id]:\n",
    "            print(foaf_id)\n",
    "#Counter returns the count of each element in a key value pair"
   ]
  },
  {
   "cell_type": "code",
   "execution_count": 12,
   "metadata": {},
   "outputs": [],
   "source": [
    "interests = [\n",
    "    (0, \"Hadoop\"), (0, \"Big Data\"), (0, \"HBase\"), (0, \"Java\"),\n",
    "    (0, \"Spark\"), (0, \"Storm\"), (0, \"Cassandra\"),\n",
    "    (1, \"NoSQL\"), (1, \"MongoDB\"), (1, \"Cassandra\"), (1, \"HBase\"),\n",
    "    (1, \"Postgres\"), (2, \"Python\"), (2, \"scikit-learn\"), (2, \"scipy\"),\n",
    "    (2, \"numpy\"), (2, \"statsmodels\"), (2, \"pandas\"), (3, \"R\"), (3, \"Python\"),\n",
    "    (3, \"statistics\"), (3, \"regression\"), (3, \"probability\"),\n",
    "    (4, \"machine learning\"), (4, \"regression\"), (4, \"decision trees\"),\n",
    "    (4, \"libsvm\"), (5, \"Python\"), (5, \"R\"), (5, \"Java\"), (5, \"C++\"),\n",
    "    (5, \"Haskell\"), (5, \"programming languages\"), (6, \"statistics\"),\n",
    "    (6, \"probability\"), (6, \"mathematics\"), (6, \"theory\"),\n",
    "    (7, \"machine learning\"), (7, \"scikit-learn\"), (7, \"Mahout\"),\n",
    "    (7, \"neural networks\"), (8, \"neural networks\"), (8, \"deep learning\"),\n",
    "    (8, \"Big Data\"), (8, \"artificial intelligence\"), (9, \"Hadoop\"),\n",
    "    (9, \"Java\"), (9, \"MapReduce\"), (9, \"Big Data\")\n",
    "]"
   ]
  },
  {
   "cell_type": "code",
   "execution_count": 13,
   "metadata": {},
   "outputs": [],
   "source": [
    "def data_scientist_who_like(target_interest):\n",
    "    \"\"\"This is used to find the like-minded people\"\"\"\n",
    "    return [user_id for user_id,user_interest in target_interest if user_interest == target_interest]\n",
    "a= data_scientist_who_like(interests)"
   ]
  },
  {
   "cell_type": "code",
   "execution_count": 14,
   "metadata": {},
   "outputs": [
    {
     "name": "stdout",
     "output_type": "stream",
     "text": [
      "defaultdict(<class 'list'>, {'Hadoop': [0, 9], 'Big Data': [0, 8, 9], 'HBase': [0, 1], 'Java': [0, 5, 9], 'Spark': [0], 'Storm': [0], 'Cassandra': [0, 1], 'NoSQL': [1], 'MongoDB': [1], 'Postgres': [1], 'Python': [2, 3, 5], 'scikit-learn': [2, 7], 'scipy': [2], 'numpy': [2], 'statsmodels': [2], 'pandas': [2], 'R': [3, 5], 'statistics': [3, 6], 'regression': [3, 4], 'probability': [3, 6], 'machine learning': [4, 7], 'decision trees': [4], 'libsvm': [4], 'C++': [5], 'Haskell': [5], 'programming languages': [5], 'mathematics': [6], 'theory': [6], 'Mahout': [7], 'neural networks': [7, 8], 'deep learning': [8], 'artificial intelligence': [8], 'MapReduce': [9]})\n"
     ]
    }
   ],
   "source": [
    "from collections import defaultdict\n",
    "\n",
    "#keys are interest,values are list of user_ids with that interest\n",
    "user_ids_by_interest = defaultdict(list)\n",
    "for user_id, interest in interests:\n",
    "    user_ids_by_interest[interest].append(user_id)\n",
    "print(user_ids_by_interest)"
   ]
  },
  {
   "cell_type": "code",
   "execution_count": 15,
   "metadata": {},
   "outputs": [
    {
     "name": "stdout",
     "output_type": "stream",
     "text": [
      "defaultdict(<class 'list'>, {0: ['Hadoop', 'Big Data', 'HBase', 'Java', 'Spark', 'Storm', 'Cassandra'], 1: ['NoSQL', 'MongoDB', 'Cassandra', 'HBase', 'Postgres'], 2: ['Python', 'scikit-learn', 'scipy', 'numpy', 'statsmodels', 'pandas'], 3: ['R', 'Python', 'statistics', 'regression', 'probability'], 4: ['machine learning', 'regression', 'decision trees', 'libsvm'], 5: ['Python', 'R', 'Java', 'C++', 'Haskell', 'programming languages'], 6: ['statistics', 'probability', 'mathematics', 'theory'], 7: ['machine learning', 'scikit-learn', 'Mahout', 'neural networks'], 8: ['neural networks', 'deep learning', 'Big Data', 'artificial intelligence'], 9: ['Hadoop', 'Java', 'MapReduce', 'Big Data']})\n"
     ]
    }
   ],
   "source": [
    "interest_user_byid = defaultdict(list)\n",
    "for user_id, interest in interests:\n",
    "    interest_user_byid[user_id].append(interest)\n",
    "print(interest_user_byid)"
   ]
  },
  {
   "cell_type": "code",
   "execution_count": 16,
   "metadata": {},
   "outputs": [
    {
     "name": "stdout",
     "output_type": "stream",
     "text": [
      "defaultdict(<class 'list'>, {'0': ['Sanjay'], '1': ['Kapilesh'], '2': ['Sai'], '3': ['Sruthi']})\n"
     ]
    }
   ],
   "source": [
    "test= defaultdict(list)\n",
    "dictest = [(\"0\",\"Sanjay\"),(\"1\",\"Kapilesh\"),(\"2\",\"Sai\"),(\"3\",\"Sruthi\")]\n",
    "for i, j in dictest:\n",
    "    test[i].append(j)\n",
    "print(test)"
   ]
  },
  {
   "cell_type": "code",
   "execution_count": 17,
   "metadata": {},
   "outputs": [
    {
     "data": {
      "text/plain": [
       "Counter({5: 2, 2: 1, 6: 2, 4: 1})"
      ]
     },
     "execution_count": 17,
     "metadata": {},
     "output_type": "execute_result"
    }
   ],
   "source": [
    "def most_common_interest_with(user):\n",
    "    return Counter(\n",
    "        interested_user_id\n",
    "        for interest in interest_user_byid[user['id']]\n",
    "        for interested_user_id in user_ids_by_interest[interest]\n",
    "        if interested_user_id != user[\"id\"]\n",
    "    )\n",
    "most_common_interest_with(users[3])\n",
    "#The above function returns the person with the number of common interest"
   ]
  },
  {
   "cell_type": "code",
   "execution_count": 18,
   "metadata": {},
   "outputs": [],
   "source": [
    "salaries_and_tenures = [(83000, 8.7), (88000, 8.1),\n",
    "                        (48000, 0.7), (76000, 6),\n",
    "                        (69000, 6.5), (76000, 7.5),\n",
    "                        (60000, 2.5), (83000, 10),\n",
    "                        (48000, 1.9), (63000, 4.2)]"
   ]
  },
  {
   "cell_type": "code",
   "execution_count": 33,
   "metadata": {},
   "outputs": [
    {
     "name": "stdout",
     "output_type": "stream",
     "text": [
      "The salary per tenure []\n",
      "The average salary by tenure {8.7: 83000.0, 8.1: 88000.0, 0.7: 48000.0, 6: 76000.0, 6.5: 69000.0, 7.5: 76000.0, 2.5: 60000.0, 10: 83000.0, 1.9: 48000.0, 4.2: 63000.0}\n"
     ]
    }
   ],
   "source": [
    "salary_tenure=defaultdict(list)\n",
    "for salary,tenure in salaries_and_tenures:\n",
    "    salary_tenure[tenure].append(salary)\n",
    "average_salary_by_tenure = {\n",
    "    tenure : sum(salaries)/len(salaries) for tenure, salaries in salary_tenure.items()\n",
    "}\n",
    "print(\"The salary per tenure {}\".format(salary_tenure['asd']))\n",
    "print(\"The average salary by tenure {}\".format(average_salary_by_tenure))"
   ]
  },
  {
   "cell_type": "code",
   "execution_count": 44,
   "metadata": {},
   "outputs": [
    {
     "name": "stdout",
     "output_type": "stream",
     "text": [
      "The grouped salary is defaultdict(<class 'list'>, {'More than 5 years --legendary!!': [83000, 88000, 76000, 69000, 76000, 83000], 'less than two --kiddo!!': [48000, 48000], 'Between two and five --pro!!': [60000, 63000]})\n",
      "The average grouped salary is {'More than 5 years --legendary!!': 79166.66666666667, 'less than two --kiddo!!': 48000.0, 'Between two and five --pro!!': 61500.0}\n"
     ]
    }
   ],
   "source": [
    "def grouping_tenure(tenure):\n",
    "    if tenure<2:\n",
    "        return \"less than two --kiddo!!\"\n",
    "    elif tenure<=5:\n",
    "        return \"Between two and five --pro!!\"\n",
    "    else:\n",
    "        return \"More than 5 years --legendary!!\"\n",
    "grouped_tenure = defaultdict(list)\n",
    "for salary,tenure in salaries_and_tenures:\n",
    "    grouped = grouping_tenure(tenure)\n",
    "    grouped_tenure[grouped].append(salary)\n",
    "print(\"The grouped salary is {}\".format(grouped_tenure))\n",
    "avg_grp_salary_by_tenure = {\n",
    "    tenure:sum(salaries)/len(salaries) for tenure, salaries in grouped_tenure.items()\n",
    "}\n",
    "print(\"The average grouped salary is {}\".format(avg_grp_salary_by_tenure))"
   ]
  },
  {
   "cell_type": "code",
   "execution_count": 59,
   "metadata": {},
   "outputs": [
    {
     "name": "stdout",
     "output_type": "stream",
     "text": [
      "Counter({'big': 3, 'data': 3, 'java': 3, 'python': 3, 'learning': 3, 'hadoop': 2, 'hbase': 2, 'cassandra': 2, 'scikit-learn': 2, 'r': 2, 'statistics': 2, 'regression': 2, 'probability': 2, 'machine': 2, 'neural': 2, 'networks': 2, 'spark': 1, 'storm': 1, 'nosql': 1, 'mongodb': 1, 'postgres': 1, 'scipy': 1, 'numpy': 1, 'statsmodels': 1, 'pandas': 1, 'decision': 1, 'trees': 1, 'libsvm': 1, 'c++': 1, 'haskell': 1, 'programming': 1, 'languages': 1, 'mathematics': 1, 'theory': 1, 'mahout': 1, 'deep': 1, 'artificial': 1, 'intelligence': 1, 'mapreduce': 1})\n",
      "big 3\n",
      "data 3\n",
      "java 3\n",
      "python 3\n",
      "learning 3\n",
      "hadoop 2\n",
      "hbase 2\n",
      "cassandra 2\n",
      "scikit-learn 2\n",
      "r 2\n",
      "statistics 2\n",
      "regression 2\n",
      "probability 2\n",
      "machine 2\n",
      "neural 2\n",
      "networks 2\n"
     ]
    }
   ],
   "source": [
    "#Back to the hobbies\n",
    "word_count = Counter(word\n",
    "                    for user,interest in interests\n",
    "                    for word in interest.lower().split())\n",
    "print(word_count)\n",
    "for word, count in word_count.most_common():\n",
    "    if count>1:\n",
    "        print(word, count)"
   ]
  },
  {
   "cell_type": "code",
   "execution_count": null,
   "metadata": {},
   "outputs": [],
   "source": []
  },
  {
   "cell_type": "code",
   "execution_count": null,
   "metadata": {},
   "outputs": [],
   "source": []
  }
 ],
 "metadata": {
  "kernelspec": {
   "display_name": "Python 3",
   "language": "python",
   "name": "python3"
  },
  "language_info": {
   "codemirror_mode": {
    "name": "ipython",
    "version": 3
   },
   "file_extension": ".py",
   "mimetype": "text/x-python",
   "name": "python",
   "nbconvert_exporter": "python",
   "pygments_lexer": "ipython3",
   "version": "3.8.2"
  }
 },
 "nbformat": 4,
 "nbformat_minor": 4
}
