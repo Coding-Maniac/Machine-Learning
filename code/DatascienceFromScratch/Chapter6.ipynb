{
 "cells": [
  {
   "cell_type": "markdown",
   "metadata": {},
   "source": [
    "### The links are just an additional side note not a content from book\n",
    "# Conditional Probability\n",
    "[Intro to Conditional Probability by Trefor Bazett](https://www.youtube.com/watch?v=ibINrxJLvlM) <br>\n",
    "[Conditional probability examples](https://www.youtube.com/watch?v=OYT0AcuLXu8)"
   ]
  },
  {
   "cell_type": "code",
   "execution_count": 4,
   "metadata": {},
   "outputs": [
    {
     "name": "stdout",
     "output_type": "stream",
     "text": [
      "p(both| elder):  0.5007089325501317\n",
      "p(both| either):  0.3311897106109325\n"
     ]
    }
   ],
   "source": [
    "from __future__ import annotations\n",
    "import enum,random\n",
    "#enum is a typed set od enumerated values\n",
    "#We can use them to make our code more readable\n",
    "class KID(enum.Enum):\n",
    "    boy = 0\n",
    "    girl = 1\n",
    "def random_choice() ->Kid:\n",
    "    return random.choice([KID.boy,KID.girl])\n",
    "both_girls = 0\n",
    "elder_girl = 0\n",
    "either_girl = 0\n",
    "random.seed(0)\n",
    "for _ in range(10000):\n",
    "    younger = random_choice()\n",
    "    elder = random_choice()\n",
    "    if elder == KID.girl:\n",
    "        elder_girl +=1\n",
    "    if elder == KID.girl and younger == KID.girl:\n",
    "        both_girls +=1\n",
    "    if elder == KID.girl or younger == KID.girl:\n",
    "        either_girl +=1\n",
    "print(\"p(both| elder): \",both_girls/elder_girl)\n",
    "print(\"p(both| either): \",both_girls/either_girl )"
   ]
  },
  {
   "cell_type": "markdown",
   "metadata": {},
   "source": [
    "# Bayes's Theorem\n",
    "[The simplest case](https://www.youtube.com/watch?v=XQoLVl31ZfQ) <br>\n",
    "[Disjoint Union](https://www.youtube.com/watch?v=k6Dw0on6NtM) <br>\n",
    "[False Positives](https://www.youtube.com/watch?v=HaYbxQC61pw&t=496s)"
   ]
  },
  {
   "cell_type": "code",
   "execution_count": null,
   "metadata": {},
   "outputs": [],
   "source": []
  }
 ],
 "metadata": {
  "kernelspec": {
   "display_name": "Python 3",
   "language": "python",
   "name": "python3"
  },
  "language_info": {
   "codemirror_mode": {
    "name": "ipython",
    "version": 3
   },
   "file_extension": ".py",
   "mimetype": "text/x-python",
   "name": "python",
   "nbconvert_exporter": "python",
   "pygments_lexer": "ipython3",
   "version": "3.8.2"
  }
 },
 "nbformat": 4,
 "nbformat_minor": 4
}
