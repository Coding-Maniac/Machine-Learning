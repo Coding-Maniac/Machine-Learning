{
 "cells": [
  {
   "cell_type": "markdown",
   "metadata": {},
   "source": [
    "### [p-value](https://www.youtube.com/watch?v=vemZtEM63GY)\n",
    "### [p-value in a detailed statistical view](https://www.youtube.com/watch?v=5Z9OIYA8He8)\n",
    "### [p-hacking](https://www.youtube.com/watch?v=UFhJefdVCjE)"
   ]
  },
  {
   "cell_type": "code",
   "execution_count": null,
   "metadata": {},
   "outputs": [],
   "source": [
    "from typing import Tuple\n",
    "import math\n",
    "def normal_approximation_to_binomial(n:float ,p:float) -> Tuple[float, float]:\n",
    "    \"\"\"Return mu and sigma corresponding to m and p\"\"\"\n",
    "    mu = n * p\n",
    "    p = math.sqrt(p*(1-p)*n)\n",
    "    return mu,sigma\n",
    "#Bayesian interface"
   ]
  },
  {
   "cell_type": "code",
   "execution_count": null,
   "metadata": {},
   "outputs": [],
   "source": []
  }
 ],
 "metadata": {
  "kernelspec": {
   "display_name": "Python 3",
   "language": "python",
   "name": "python3"
  },
  "language_info": {
   "codemirror_mode": {
    "name": "ipython",
    "version": 3
   },
   "file_extension": ".py",
   "mimetype": "text/x-python",
   "name": "python",
   "nbconvert_exporter": "python",
   "pygments_lexer": "ipython3",
   "version": "3.8.2"
  }
 },
 "nbformat": 4,
 "nbformat_minor": 4
}
