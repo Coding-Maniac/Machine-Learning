{
 "cells": [
  {
   "cell_type": "code",
   "execution_count": 1,
   "metadata": {},
   "outputs": [],
   "source": [
    "from typing import List\n",
    "Vector = List[float]\n",
    "height_weight_age = [70,  #inches\n",
    "                    170,  #pounds\n",
    "                    40    #years\n",
    "                    ]\n",
    "grades = [95,   # exam1\n",
    "          80,   # exam2\n",
    "          75,   # exam3\n",
    "          62 ]  # exam4\n"
   ]
  },
  {
   "cell_type": "code",
   "execution_count": 2,
   "metadata": {},
   "outputs": [
    {
     "name": "stdout",
     "output_type": "stream",
     "text": [
      "[3, 6]\n"
     ]
    }
   ],
   "source": [
    "# from typing import Vector\n",
    "from __future__ import annotations\n",
    "def add(v: Vector, w: Vector ) ->Vector:\n",
    "    assert len(v) == len(w), \"Vectors must be of same length\"\n",
    "    return [v_i + w_i for v_i,w_i in zip(v,w)]\n",
    "assert add([1,2],[2,4]) == [3,6],\"Your function sucks\"\n",
    "print(add([1,2],[2,4]))"
   ]
  },
  {
   "cell_type": "code",
   "execution_count": 3,
   "metadata": {},
   "outputs": [
    {
     "name": "stdout",
     "output_type": "stream",
     "text": [
      "[-1, 1]\n"
     ]
    }
   ],
   "source": [
    "def subtract(v: Vector,w: Vector )-> Vector:\n",
    "    assert len(v) == len(w)\n",
    "    return [v_i - w_i for v_i,w_i in zip(v,w)]\n",
    "# assert subtract([1,2],[2,1])\n",
    "print(subtract([1,2],[2,1]))\n",
    "    "
   ]
  },
  {
   "cell_type": "code",
   "execution_count": 4,
   "metadata": {},
   "outputs": [
    {
     "name": "stdout",
     "output_type": "stream",
     "text": [
      "[16, 20]\n"
     ]
    }
   ],
   "source": [
    "def vector_sum(vector: List[vector])->vector:\n",
    "    #To make sure the vector isnt empty\n",
    "    assert vector, \"It is an empty vector\"\n",
    "    #To check all elements are of same size\n",
    "    vec_size = len(vector[0])\n",
    "    assert all(len(v) == vec_size for v in vector),\"The vectors are not of same size\"\n",
    "    return [sum(vec[i] for vec in vector) for i in range(vec_size)]\n",
    "assert vector_sum([[1, 2], [3, 4], [5, 6], [7, 8]]) == [16, 20],\"check\"\n",
    "print(vector_sum([[1, 2], [3, 4], [5, 6], [7, 8]]))"
   ]
  },
  {
   "cell_type": "code",
   "execution_count": 5,
   "metadata": {},
   "outputs": [
    {
     "name": "stdout",
     "output_type": "stream",
     "text": [
      "([1, 2], [3, 4], [5, 6], [7, 8])\n",
      "[16, 20]\n"
     ]
    }
   ],
   "source": [
    "#Tryout by me additional code not from book\n",
    "#This can be used to pass individual lists not vectors\n",
    "def vec_var_sum(*args : List[args]) -> vector:\n",
    "    assert args, \"Empty values are not supported\"\n",
    "    vector = args\n",
    "    print(vector)\n",
    "    vec_size =  len(vector[0])\n",
    "    assert all(len(v) == vec_size for v in vector)\n",
    "    return [sum(vec[i] for vec in vector) for i in range(vec_size)]\n",
    "a =[1,2]\n",
    "b=[3,4]\n",
    "c=[5,6]\n",
    "d=[7,8]\n",
    "print(vec_var_sum(a,b,c,d))"
   ]
  },
  {
   "cell_type": "code",
   "execution_count": 6,
   "metadata": {},
   "outputs": [
    {
     "name": "stdout",
     "output_type": "stream",
     "text": [
      "[2, 4, 6]\n"
     ]
    }
   ],
   "source": [
    "def scalar_multiply(c: float,v: Vector)->Vector:\n",
    "    return [c*v_i for v_i in v]\n",
    "assert scalar_multiply(2,[1,2,3]) == [2,4,6], \"Yo there\"\n",
    "print(scalar_multiply(2,[1,2,3]))"
   ]
  },
  {
   "cell_type": "code",
   "execution_count": 7,
   "metadata": {},
   "outputs": [
    {
     "name": "stdout",
     "output_type": "stream",
     "text": [
      "[3.0, 4.0]\n"
     ]
    }
   ],
   "source": [
    "def vector_mean(vector : List[vector]) -> Vector:\n",
    "    n = len(vector)\n",
    "    return scalar_multiply(1/n,vector_sum(vector))\n",
    "print(vector_mean([[1, 2], [3, 4], [5, 6]]))\n",
    "    "
   ]
  },
  {
   "cell_type": "code",
   "execution_count": 8,
   "metadata": {},
   "outputs": [
    {
     "name": "stdout",
     "output_type": "stream",
     "text": [
      "32\n"
     ]
    }
   ],
   "source": [
    "def dot(v: Vector, w: Vector) -> Vector:\n",
    "    assert len(v) == len(w),\"Vectors should be of same size\"\n",
    "    return sum(v_i*w_i for v_i,w_i in zip(v,w))\n",
    "print(dot([1, 2, 3], [4, 5, 6]))"
   ]
  },
  {
   "cell_type": "code",
   "execution_count": 9,
   "metadata": {},
   "outputs": [
    {
     "name": "stdout",
     "output_type": "stream",
     "text": [
      "14\n"
     ]
    }
   ],
   "source": [
    "def sum_of_squares(v: Vector) -> float:\n",
    "    return dot(v, v)\n",
    "print(sum_of_squares([1,2,3]))"
   ]
  },
  {
   "cell_type": "code",
   "execution_count": 10,
   "metadata": {},
   "outputs": [
    {
     "name": "stdout",
     "output_type": "stream",
     "text": [
      "5.0\n"
     ]
    }
   ],
   "source": [
    "import math\n",
    "def magnitude(v: Vector):\n",
    "    return math.sqrt(sum_of_squares(v))\n",
    "print(magnitude([3,4]))\n"
   ]
  },
  {
   "cell_type": "code",
   "execution_count": 11,
   "metadata": {},
   "outputs": [
    {
     "name": "stdout",
     "output_type": "stream",
     "text": [
      "8\n"
     ]
    }
   ],
   "source": [
    "def squared_distance(v: Vector,w: Vector) -> float:\n",
    "    return sum_of_squares(subtract(v, w))\n",
    "print(squared_distance([1,2],[3,4]))"
   ]
  },
  {
   "cell_type": "code",
   "execution_count": 12,
   "metadata": {},
   "outputs": [],
   "source": [
    "#To find the distance\n",
    "def distance(v: Vector,w: Vector) -> float:\n",
    "    return math.sqrt(squared_distance(v,w))\n",
    "def distance(v: Vector, w: Vector) -> float:\n",
    "    return magnitude(subtract(v,w))"
   ]
  },
  {
   "cell_type": "code",
   "execution_count": 13,
   "metadata": {},
   "outputs": [],
   "source": [
    "#MATRICES\n",
    "Matrix = List[List[float]]\n",
    "A = [[1, 2, 3],  # A has 2 rows and 3 columns\n",
    "     [4, 5, 6]]\n",
    "\n",
    "B = [[1, 2],     # B has 3 rows and 2 columns\n",
    "     [3, 4],\n",
    "     [5, 6]]"
   ]
  },
  {
   "cell_type": "code",
   "execution_count": 17,
   "metadata": {},
   "outputs": [
    {
     "name": "stdout",
     "output_type": "stream",
     "text": [
      "(2, 3)\n"
     ]
    }
   ],
   "source": [
    "#Shape of matrix\n",
    "from typing import Tuple\n",
    "def shape(A: Matrix) -> Tuple:\n",
    "    num_rows = len(A)\n",
    "    num_columns = len(A[0]) if A else 0\n",
    "    return num_rows, num_columns\n",
    "shapeA = shape(A)\n",
    "print(shapeA)"
   ]
  },
  {
   "cell_type": "code",
   "execution_count": 18,
   "metadata": {},
   "outputs": [],
   "source": [
    "def get_row(A: Matrix, i: int) -> Vector:\n",
    "    \"\"\"Returns the i-th row of the element\"\"\"\n",
    "    return A[i] #A[i] is already the ith row\n",
    "def get_column(A:Matrix, j:int) -> Vector:\n",
    "    \"\"\"Returns the jth element\"\"\"\n",
    "    return [A_i[j] for A_i in A]\n"
   ]
  },
  {
   "cell_type": "code",
   "execution_count": 20,
   "metadata": {},
   "outputs": [
    {
     "name": "stdout",
     "output_type": "stream",
     "text": [
      "[[1, 0, 0, 0, 0], [0, 1, 0, 0, 0], [0, 0, 1, 0, 0], [0, 0, 0, 1, 0], [0, 0, 0, 0, 1]]\n"
     ]
    }
   ],
   "source": [
    "from typing import Callable \n",
    "def make_matrix(num_rows: int, num_cols: int, entry_fn: Callable[[int,int],float]):\n",
    "    \"\"\"\n",
    "     Returns a num_rows x num_cols matrix\n",
    "    whose (i,j)-th entry is entry_fn(i, j)\n",
    "    \"\"\"\n",
    "    return [[entry_fn(i,j) for j in range(num_cols)] for i in range(num_rows)]\n",
    "def identity_matrix(n: int) -> Matrix:\n",
    "    return make_matrix(n,n,lambda i, j: 1 if i==j else 0 )\n",
    "print(identity_matrix(5))"
   ]
  },
  {
   "cell_type": "code",
   "execution_count": 24,
   "metadata": {},
   "outputs": [
    {
     "name": "stdout",
     "output_type": "stream",
     "text": [
      "['notFriend']\n",
      "[4, 6, 7]\n"
     ]
    }
   ],
   "source": [
    "friend_matrix = [[0, 1, 1, 0, 0, 0, 0, 0, 0, 0],  # user 0\n",
    "                 [1, 0, 1, 1, 0, 0, 0, 0, 0, 0],  # user 1\n",
    "                 [1, 1, 0, 1, 0, 0, 0, 0, 0, 0],  # user 2\n",
    "                 [0, 1, 1, 0, 1, 0, 0, 0, 0, 0],  # user 3\n",
    "                 [0, 0, 0, 1, 0, 1, 0, 0, 0, 0],  # user 4\n",
    "                 [0, 0, 0, 0, 1, 0, 1, 1, 0, 0],  # user 5\n",
    "                 [0, 0, 0, 0, 0, 1, 0, 0, 1, 0],  # user 6\n",
    "                 [0, 0, 0, 0, 0, 1, 0, 0, 1, 0],  # user 7\n",
    "                 [0, 0, 0, 0, 0, 0, 1, 1, 0, 1],  # user 8\n",
    "                 [0, 0, 0, 0, 0, 0, 0, 0, 1, 0]]  # user 9\n",
    "#the above is the alternative representation of\n",
    "friendships = [(0, 1), (0, 2), (1, 2), (1, 3), (2, 3), (3, 4),\n",
    "               (4, 5), (5, 6), (5, 7), (6, 8), (7, 8), (8, 9)] #in 1st chapter\n",
    "#Checking nodes is very easy in matrices but they are less efficient in case of less number of connections\n",
    "ans = [\"friend\" if friend_matrix[0][0] else \"notFriend\"] #A worst code by me\n",
    "print(ans)\n",
    "#To find a friends of a particular person we only need to go to his row\n",
    "friends_of_five = [i for i,is_friend in enumerate(friend_matrix[5])\n",
    "                  if is_friend]\n",
    "print(friends_of_five)"
   ]
  },
  {
   "cell_type": "code",
   "execution_count": 2,
   "metadata": {},
   "outputs": [],
   "source": [
    "#Two ways of importing annotations\n",
    "from typing import List\n",
    "var1: int = 5\n",
    "lst1: List[float] = []"
   ]
  },
  {
   "cell_type": "code",
   "execution_count": null,
   "metadata": {},
   "outputs": [],
   "source": [
    "\n",
    "from __future__ import annotations\n",
    "var1: int = 5\n",
    "lst1: List[float] = []\n",
    "def(a:int, b: int) ->int:\n",
    "    return a+b"
   ]
  }
 ],
 "metadata": {
  "kernelspec": {
   "display_name": "Python 3",
   "language": "python",
   "name": "python3"
  },
  "language_info": {
   "codemirror_mode": {
    "name": "ipython",
    "version": 3
   },
   "file_extension": ".py",
   "mimetype": "text/x-python",
   "name": "python",
   "nbconvert_exporter": "python",
   "pygments_lexer": "ipython3",
   "version": "3.8.2"
  }
 },
 "nbformat": 4,
 "nbformat_minor": 4
}
