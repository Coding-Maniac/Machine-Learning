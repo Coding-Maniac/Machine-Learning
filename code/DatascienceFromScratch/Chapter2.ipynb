{
 "cells": [
  {
   "cell_type": "code",
   "execution_count": 1,
   "metadata": {},
   "outputs": [
    {
     "name": "stdout",
     "output_type": "stream",
     "text": [
      "<function match at 0x7fe72846bc10>\n"
     ]
    }
   ],
   "source": [
    "match = 10\n",
    "from re import * \n",
    "print(match)\n",
    "#2nd\n",
    "def apply_to_one(f):\n",
    "    \"\"\"Calls the function f with 1 as its argument\"\"\"\n",
    "    return f(1)\n",
    "\n",
    "my_double = lambda x : x*x             # refers to the previously defined function\n",
    "x = apply_to_one(my_double) "
   ]
  },
  {
   "cell_type": "code",
   "execution_count": 2,
   "metadata": {},
   "outputs": [],
   "source": [
    "import sympy"
   ]
  },
  {
   "cell_type": "code",
   "execution_count": 3,
   "metadata": {},
   "outputs": [
    {
     "name": "stdout",
     "output_type": "stream",
     "text": [
      "defaultdict(<function <lambda> at 0x7fe726fd2f70>, {2: [2, 1], 3: [0, 3]})\n"
     ]
    }
   ],
   "source": [
    "from collections import defaultdict\n",
    "dd_pair = defaultdict(lambda: [0, 0])\n",
    "dd_pair[2][1] = 1\n",
    "dd_pair[2][0]= 2\n",
    "dd_pair[3][1]=3\n",
    "print(dd_pair)"
   ]
  },
  {
   "cell_type": "code",
   "execution_count": 4,
   "metadata": {},
   "outputs": [],
   "source": [
    "# s = some_function_that_returns_a_string()\n",
    "# if s:\n",
    "#     first_char = s[0]\n",
    "# else:\n",
    "#     first_char = \"\"\n",
    "# #Another method\n",
    "# first_char = s and s[0]\n",
    "#Since \"and\" returns the second value it its truthy and first value if its false"
   ]
  },
  {
   "cell_type": "code",
   "execution_count": 5,
   "metadata": {},
   "outputs": [
    {
     "name": "stdout",
     "output_type": "stream",
     "text": [
      "[]\n"
     ]
    }
   ],
   "source": [
    "x = []\n",
    "y={}\n",
    "safe_x = y or x\n",
    "print(safe_x)\n",
    "#or assigns the truthy value to the variable safe_x\n",
    "#Incase both are false it assigns the right value\n",
    "#Need to know more to learn i am not sure about this"
   ]
  },
  {
   "cell_type": "code",
   "execution_count": 6,
   "metadata": {},
   "outputs": [
    {
     "data": {
      "text/plain": [
       "False"
      ]
     },
     "execution_count": 6,
     "metadata": {},
     "output_type": "execute_result"
    }
   ],
   "source": [
    "#The all and any function\n",
    "all([True, 1, {3}])   # True, all are truthy\n",
    "all([True, 1, {}])    # False, {} is falsy\n",
    "any([True, 1, {}])    # True, True is truthy\n",
    "all([])               # True, no falsy elements in the list\n",
    "#-----\n",
    "any([])               # False, no truthy elements in the list"
   ]
  },
  {
   "cell_type": "code",
   "execution_count": 7,
   "metadata": {},
   "outputs": [
    {
     "name": "stdout",
     "output_type": "stream",
     "text": [
      "[-4, 3, -2, 1]\n"
     ]
    }
   ],
   "source": [
    "x = sorted([-4, 1, -2, 3], key=abs, reverse=True)  # is [-4, 3, -2, 1]\n",
    "#Sorted key specifies a function , which is compared while sorting and reverse for descending order\n",
    "#The above example is sorted as [4,3,2,1] as the key is abs(absolute value)\n",
    "print(x)"
   ]
  },
  {
   "cell_type": "code",
   "execution_count": 8,
   "metadata": {},
   "outputs": [
    {
     "name": "stdout",
     "output_type": "stream",
     "text": [
      "{1}\n"
     ]
    }
   ],
   "source": [
    "square_set  = {x * x for x in [1, -1]}\n",
    "print(square_set)\n",
    "#https://wiki.python.org/moin/TimeComplexity"
   ]
  },
  {
   "cell_type": "code",
   "execution_count": 9,
   "metadata": {},
   "outputs": [
    {
     "name": "stdout",
     "output_type": "stream",
     "text": [
      "3\n"
     ]
    }
   ],
   "source": [
    "even_numbers = [1,3,4,]\n",
    "zeros = [0 for i in even_numbers] \n",
    "print(len(zeros))"
   ]
  },
  {
   "cell_type": "code",
   "execution_count": 10,
   "metadata": {},
   "outputs": [
    {
     "ename": "AssertionError",
     "evalue": "Go frick Yourself",
     "output_type": "error",
     "traceback": [
      "\u001b[0;31m---------------------------------------------------------------------------\u001b[0m",
      "\u001b[0;31mAssertionError\u001b[0m                            Traceback (most recent call last)",
      "\u001b[0;32m<ipython-input-10-d2ef518c84f1>\u001b[0m in \u001b[0;36m<module>\u001b[0;34m\u001b[0m\n\u001b[0;32m----> 1\u001b[0;31m \u001b[0;32massert\u001b[0m \u001b[0;36m1\u001b[0m \u001b[0;34m+\u001b[0m \u001b[0;36m1\u001b[0m \u001b[0;34m==\u001b[0m \u001b[0;36m3\u001b[0m\u001b[0;34m,\u001b[0m \u001b[0;34m\"Go frick Yourself\"\u001b[0m\u001b[0;34m\u001b[0m\u001b[0;34m\u001b[0m\u001b[0m\n\u001b[0m",
      "\u001b[0;31mAssertionError\u001b[0m: Go frick Yourself"
     ]
    }
   ],
   "source": [
    "assert 1 + 1 == 3, \"Go frick Yourself\""
   ]
  },
  {
   "cell_type": "code",
   "execution_count": 11,
   "metadata": {},
   "outputs": [
    {
     "name": "stdout",
     "output_type": "stream",
     "text": [
      "[1]\n"
     ]
    }
   ],
   "source": [
    "def smallest_item(xs):\n",
    "    assert xs, \"empty list has no smallest item\"\n",
    "    return min(xs)\n",
    "xs = [1]\n",
    "smallest_item(xs)\n",
    "print(xs)"
   ]
  },
  {
   "cell_type": "code",
   "execution_count": 12,
   "metadata": {},
   "outputs": [],
   "source": [
    "class countClicker:\n",
    "    \"\"\"This class is a test class to count click\"\"\"\n",
    "    def __init__(self,count=0):\n",
    "        self.count= count\n",
    "    def click(self,num_times=1):\n",
    "        self.count += num_times\n",
    "    def read(self):\n",
    "        return self.count\n",
    "    def reset(self):\n",
    "        self.count = 0\n",
    "clicker = countClicker()\n",
    "assert clicker.read() == 0,\"Dont worry it will be zero\"\n",
    "clicker.click()\n",
    "assert clicker.read() == 1,\"gud\"\n",
    "clicker.reset()\n",
    "assert clicker.read() == 0,\"Frikin awesome\"\n",
    "clicker2 = countClicker(100)\n",
    "assert clicker2.read() == 100,\"Dont worry it will be zero\"\n",
    "clicker2.click()\n",
    "assert clicker2.read() == 101,\"gud\"\n",
    "clicker2.reset()\n",
    "assert clicker2.read() == 0,\"Well Well,How the tables have turned\""
   ]
  },
  {
   "cell_type": "code",
   "execution_count": 13,
   "metadata": {},
   "outputs": [],
   "source": [
    "class noreset(countClicker):\n",
    "    #This subclass contains all the properties of class countClicker\n",
    "    #No we are gonna rewrite the reset function\n",
    "    def reset(self):\n",
    "        pass\n",
    "rstclick = noreset()\n",
    "assert rstclick.read() == 0, \"This should work\"\n",
    "rstclick.click()\n",
    "assert rstclick.read() == 1, \"For frick's sake\"\n",
    "rstclick.reset()\n",
    "#This should not reset the count as our reset function does nothing\n",
    "assert rstclick.read() == 1,\"This should check\""
   ]
  },
  {
   "cell_type": "code",
   "execution_count": 14,
   "metadata": {},
   "outputs": [
    {
     "name": "stdout",
     "output_type": "stream",
     "text": [
      "The number is: 0\n",
      "The number is: 1\n",
      "The number is: 2\n",
      "The number is: 3\n",
      "The number is: 4\n",
      "WOw:0\n",
      "WOw:2\n",
      "WOw:4\n",
      "WOw:6\n",
      "WOw:8\n",
      "WOw:10\n",
      "WOw:12\n",
      "WOw:14\n",
      "WOw:16\n",
      "WOw:18\n"
     ]
    }
   ],
   "source": [
    "#Generators\n",
    "def generate_range(n):\n",
    "    i = 0\n",
    "    while i<n:\n",
    "        yield i\n",
    "        i+=1\n",
    "for i in generate_range(5):\n",
    "    print(f\"The number is: {i}\")\n",
    "#The second way to create generator is\n",
    "evens_below = (i for i in generate_range(20) if i%2==0)\n",
    "for i in evens_below:\n",
    "    print(f\"WOw:{i}\")\n",
    "for j in evens_below:\n",
    "    print(f\"test:{i}\")"
   ]
  },
  {
   "cell_type": "code",
   "execution_count": 15,
   "metadata": {},
   "outputs": [
    {
     "ename": "NameError",
     "evalue": "name 'natural_numbers' is not defined",
     "output_type": "error",
     "traceback": [
      "\u001b[0;31m---------------------------------------------------------------------------\u001b[0m",
      "\u001b[0;31mNameError\u001b[0m                                 Traceback (most recent call last)",
      "\u001b[0;32m<ipython-input-15-06cbe6ee30f0>\u001b[0m in \u001b[0;36m<module>\u001b[0;34m\u001b[0m\n\u001b[1;32m      1\u001b[0m \u001b[0;31m# None of these computations *does* anything until we iterate\u001b[0m\u001b[0;34m\u001b[0m\u001b[0;34m\u001b[0m\u001b[0;34m\u001b[0m\u001b[0m\n\u001b[0;32m----> 2\u001b[0;31m \u001b[0mdata\u001b[0m \u001b[0;34m=\u001b[0m \u001b[0mnatural_numbers\u001b[0m\u001b[0;34m(\u001b[0m\u001b[0;34m)\u001b[0m\u001b[0;34m\u001b[0m\u001b[0;34m\u001b[0m\u001b[0m\n\u001b[0m\u001b[1;32m      3\u001b[0m \u001b[0mevens\u001b[0m \u001b[0;34m=\u001b[0m \u001b[0;34m(\u001b[0m\u001b[0mx\u001b[0m \u001b[0;32mfor\u001b[0m \u001b[0mx\u001b[0m \u001b[0;32min\u001b[0m \u001b[0mdata\u001b[0m \u001b[0;32mif\u001b[0m \u001b[0mx\u001b[0m \u001b[0;34m%\u001b[0m \u001b[0;36m2\u001b[0m \u001b[0;34m==\u001b[0m \u001b[0;36m0\u001b[0m\u001b[0;34m)\u001b[0m\u001b[0;34m\u001b[0m\u001b[0;34m\u001b[0m\u001b[0m\n\u001b[1;32m      4\u001b[0m \u001b[0meven_squares\u001b[0m \u001b[0;34m=\u001b[0m \u001b[0;34m(\u001b[0m\u001b[0mx\u001b[0m \u001b[0;34m**\u001b[0m \u001b[0;36m2\u001b[0m \u001b[0;32mfor\u001b[0m \u001b[0mx\u001b[0m \u001b[0;32min\u001b[0m \u001b[0mevens\u001b[0m\u001b[0;34m)\u001b[0m\u001b[0;34m\u001b[0m\u001b[0;34m\u001b[0m\u001b[0m\n\u001b[1;32m      5\u001b[0m \u001b[0meven_squares_ending_in_six\u001b[0m \u001b[0;34m=\u001b[0m \u001b[0;34m(\u001b[0m\u001b[0mx\u001b[0m \u001b[0;32mfor\u001b[0m \u001b[0mx\u001b[0m \u001b[0;32min\u001b[0m \u001b[0meven_squares\u001b[0m \u001b[0;32mif\u001b[0m \u001b[0mx\u001b[0m \u001b[0;34m%\u001b[0m \u001b[0;36m10\u001b[0m \u001b[0;34m==\u001b[0m \u001b[0;36m6\u001b[0m\u001b[0;34m)\u001b[0m\u001b[0;34m\u001b[0m\u001b[0;34m\u001b[0m\u001b[0m\n",
      "\u001b[0;31mNameError\u001b[0m: name 'natural_numbers' is not defined"
     ]
    }
   ],
   "source": [
    "# None of these computations *does* anything until we iterate\n",
    "data = natural_numbers()\n",
    "evens = (x for x in data if x % 2 == 0)\n",
    "even_squares = (x ** 2 for x in evens)\n",
    "even_squares_ending_in_six = (x for x in even_squares if x % 10 == 6)\n",
    "# and so on"
   ]
  },
  {
   "cell_type": "raw",
   "metadata": {},
   "source": []
  },
  {
   "cell_type": "code",
   "execution_count": null,
   "metadata": {},
   "outputs": [],
   "source": [
    "density =12.213\n",
    "\n",
    "f'\\N{GREEK SMALL LETTER GAMMA}={density:.2f} t/m\\N{SUPERSCRIPT THREE}'\n",
    "print(f'1$^{st}$')"
   ]
  },
  {
   "cell_type": "code",
   "execution_count": 21,
   "metadata": {},
   "outputs": [
    {
     "name": "stdout",
     "output_type": "stream",
     "text": [
      "[0, 7, 3, 6]\n",
      "[8, 4, 0, 1, 2, 9]\n"
     ]
    }
   ],
   "source": [
    "import random\n",
    "#Use choice for selecting with repetition\n",
    "four_with_replacement = [random.choice(range(10)) for _ in range(4)]\n",
    "print(four_with_replacement)  # [9, 4, 4, 2]\n",
    "\n",
    "#Use sample for selecting without repetition\n",
    "a=10\n",
    "b=6\n",
    "lottery_numbers = range(a)\n",
    "#if the sample set is less than the need to select \"sample throws a error\" in this case a<b will result in an error\n",
    "winning_numbers = random.sample(lottery_numbers, b)\n",
    "print(winning_numbers)"
   ]
  },
  {
   "cell_type": "code",
   "execution_count": 26,
   "metadata": {},
   "outputs": [
    {
     "name": "stdout",
     "output_type": "stream",
     "text": [
      "[True, <re.Match object; span=(1, 2), match='a'>, True, True, True]\n"
     ]
    }
   ],
   "source": [
    "import re\n",
    "re_examples = [             #All are true\n",
    "    not re.match('a','cat'), #'cat' doesn't start with 'a'\n",
    "    re.search('a','cat'),    #'a' is present in 'a'\n",
    "    not re.search('d','cat'),\n",
    "    3 == len(re.split('[ab]','carbs')), #split on a or b output\"['c','r','s']\"\n",
    "    \"R-D-\" == re.sub(\"[0-9]\",\"-\",\"R2D2\") #Replace digits with '-'\n",
    "]\n",
    "assert all(re_examples)\n",
    "print(re_examples)"
   ]
  },
  {
   "cell_type": "code",
   "execution_count": 30,
   "metadata": {},
   "outputs": [
    {
     "name": "stdout",
     "output_type": "stream",
     "text": [
      "[('a', '1'), ('b', '2'), ('c', '3')]\n"
     ]
    }
   ],
   "source": [
    "lst1 = ['a','b','c','4']\n",
    "lst2 = ['1','2','3']\n",
    "#If a list has more elements than the other list then the list stops when the smaller list gets over\n",
    "c = [i for i in zip(lst1,lst2)]\n",
    "print(c)"
   ]
  },
  {
   "cell_type": "code",
   "execution_count": 33,
   "metadata": {},
   "outputs": [
    {
     "name": "stdout",
     "output_type": "stream",
     "text": [
      "('a', 'b', 'c')\n",
      "('1', '2', '3')\n"
     ]
    }
   ],
   "source": [
    "#'*'is used for unpacking lists\n",
    "letters, numbers = zip(*c)\n",
    "print(letters)\n",
    "print(numbers)"
   ]
  },
  {
   "cell_type": "code",
   "execution_count": 36,
   "metadata": {},
   "outputs": [
    {
     "name": "stdout",
     "output_type": "stream",
     "text": [
      "3\n"
     ]
    }
   ],
   "source": [
    "def add(a,b):\n",
    "    return a+b\n",
    "try:\n",
    "    add(1,2)\n",
    "except TypeError:\n",
    "    print(\"add excepts two inputs\")\n",
    "c = add(*[1, 2])\n",
    "print(c)"
   ]
  },
  {
   "cell_type": "code",
   "execution_count": 40,
   "metadata": {},
   "outputs": [
    {
     "name": "stdout",
     "output_type": "stream",
     "text": [
      "as defined, g only takes one argument\n"
     ]
    }
   ],
   "source": [
    "def doubler(f):\n",
    "    def g(x):\n",
    "        return 2 * f(x)\n",
    "    return g\n",
    "\n",
    "def f1(x):\n",
    "    return x+1\n",
    "\n",
    "g = doubler(f1)\n",
    "assert g(3) == 8,\"Hope this doesnt get displayed\"\n",
    "def f2(x, y):\n",
    "    return x + y\n",
    "\n",
    "g = doubler(f2)\n",
    "try:\n",
    "    g(1, 2)\n",
    "except TypeError:\n",
    "    print(\"as defined, g only takes one argument\")"
   ]
  },
  {
   "cell_type": "code",
   "execution_count": 46,
   "metadata": {},
   "outputs": [
    {
     "name": "stdout",
     "output_type": "stream",
     "text": [
      "unnamed arguments:  (1, 2, 3)\n",
      "The named arguments:  {'key': 1, 'key2': 'key2'}\n"
     ]
    }
   ],
   "source": [
    "def magic (*args, **kwargs):\n",
    "    print(\"unnamed arguments: \", args)\n",
    "    print(\"The named arguments: \", kwargs)\n",
    "magic(1,2,3,key=1,key2='key2')"
   ]
  },
  {
   "cell_type": "code",
   "execution_count": 51,
   "metadata": {},
   "outputs": [],
   "source": [
    "def other_way_magic(x,y,z):\n",
    "    return x+y+z\n",
    "x_list = [1,3]\n",
    "y_list = {'z':3}\n",
    "assert other_way_magic(*x_list,**y_list) == 7,\"Frikin dont print\""
   ]
  },
  {
   "cell_type": "code",
   "execution_count": 60,
   "metadata": {},
   "outputs": [
    {
     "name": "stdout",
     "output_type": "stream",
     "text": [
      "1 2\n",
      "\n"
     ]
    }
   ],
   "source": [
    "def doubler_correct(f):\n",
    "    \"\"\"Works no matter whatever input f is\"\"\"\n",
    "    def g(*args, **kwargs):\n",
    "        \"\"\"whatever input g is supplied,pass them through f\"\"\"\n",
    "        print(*args)\n",
    "        print(**kwargs)\n",
    "        return 2* f(*args, **kwargs)\n",
    "    return g\n",
    "g = doubler_correct(f2)\n",
    "assert g(1, 2) == 6, \"doubler should work now\""
   ]
  },
  {
   "cell_type": "code",
   "execution_count": 65,
   "metadata": {},
   "outputs": [
    {
     "name": "stdout",
     "output_type": "stream",
     "text": [
      "<class 'NoneType'>\n",
      "<class 'list'>\n"
     ]
    }
   ],
   "source": [
    "#Type annotations\n",
    "from typing import List\n",
    "def total (xs : List[float]) -> float:\n",
    "    return sum(total)\n",
    "#The above list to has only type float\n",
    "\n",
    "x: int = 5\n",
    "from typing import Optional\n",
    "values: List[int] = []\n",
    "best_so_far : Optional[float] = None #allowed to be either float or none\n",
    "print(type(best_so_far))\n",
    "print(type(values))"
   ]
  },
  {
   "cell_type": "code",
   "execution_count": 79,
   "metadata": {},
   "outputs": [
    {
     "name": "stdout",
     "output_type": "stream",
     "text": [
      "[<class 'int'>, <class 'int'>, <class 'int'>, <class 'int'>, <class 'int'>]\n",
      "(2, 1.3, 2.3)\n"
     ]
    }
   ],
   "source": [
    "from typing import Dict, Iterable, Tuple\n",
    "#keys are strings values are int\n",
    "counts:Dict[str, int] = {'data':1,'science':2}\n",
    "#lists and generators are both iterables\n",
    "lazy=True\n",
    "if lazy:\n",
    "    evens:Iterable[int] = [type(x) for x in range(10) if x%2==0]\n",
    "    print(evens)\n",
    "else:\n",
    "    evens = [0,2,4,6,8]\n",
    "#Tuples specify a type for each element\n",
    "triple :Tuple[str, int, float] = (2,1.3,2.3)\n",
    "print(triple)"
   ]
  }
 ],
 "metadata": {
  "kernelspec": {
   "display_name": "Python 3",
   "language": "python",
   "name": "python3"
  },
  "language_info": {
   "codemirror_mode": {
    "name": "ipython",
    "version": 3
   },
   "file_extension": ".py",
   "mimetype": "text/x-python",
   "name": "python",
   "nbconvert_exporter": "python",
   "pygments_lexer": "ipython3",
   "version": "3.8.2"
  }
 },
 "nbformat": 4,
 "nbformat_minor": 4
}
