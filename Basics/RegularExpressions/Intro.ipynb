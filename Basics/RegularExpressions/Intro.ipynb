{
 "cells": [
  {
   "cell_type": "markdown",
   "metadata": {},
   "source": [
    "### Regular Expression play a vital role in NLP\n",
    "**[Regex Docs](https://pycon2016.regex.training/regex-intro)** <br>\n",
    "**[Regex Cheatsheet](https://s3.amazonaws.com/thinkific/file_uploads/118220/attachments/184/63e/f6b/Regex_Cheatsheet.pdf)**"
   ]
  },
  {
   "cell_type": "code",
   "execution_count": 15,
   "metadata": {},
   "outputs": [
    {
     "name": "stdout",
     "output_type": "stream",
     "text": [
      "<re.Match object; span=(0, 5), match='Tiger'>\n",
      "Tiger\n"
     ]
    }
   ],
   "source": [
    "import re\n",
    "val = \"Tiger is the national animal\"\n",
    "pattern = \"Tiger\"\n",
    "print(re.match(pattern,val)) \n",
    "print(re.match(pattern,val).group(0))#This will find only if the string is starting"
   ]
  },
  {
   "cell_type": "code",
   "execution_count": 13,
   "metadata": {},
   "outputs": [
    {
     "name": "stdout",
     "output_type": "stream",
     "text": [
      "None\n",
      "Tiger\n"
     ]
    }
   ],
   "source": [
    "val2 = \"National Animal of India is Tiger\"\n",
    "print(re.match(pattern,val2)) #this returns none\n",
    "print(re.search(pattern,val2).group(0)) #We use search in that case"
   ]
  },
  {
   "cell_type": "code",
   "execution_count": 16,
   "metadata": {},
   "outputs": [
    {
     "name": "stdout",
     "output_type": "stream",
     "text": [
      "['12-12-2000', '21-05-2132']\n"
     ]
    }
   ],
   "source": [
    "string = \"john d gripeer 12-12-2000 21-05-2132\"\n",
    "pattern = r'\\d{2}-\\d{2}-\\d{4}'\n",
    "ans = re.findall(pattern,string)\n",
    "print(ans)"
   ]
  },
  {
   "cell_type": "markdown",
   "metadata": {},
   "source": [
    "# Thank you for 10k followers\n",
    "# Keep supporting @developer_razzsecurity\n",
    "# #100daysofcode\n",
    "# Regular Expressio"
   ]
  },
  {
   "cell_type": "code",
   "execution_count": 21,
   "metadata": {},
   "outputs": [
    {
     "name": "stdout",
     "output_type": "stream",
     "text": [
      "['Razz', 'security', 'reached', '10k', 'followers']\n"
     ]
    }
   ],
   "source": [
    "razz = \"Razz security reached 10k followers\" \n",
    "security = r'[ \\s]'\n",
    "print(re.split(security,razz))"
   ]
  },
  {
   "cell_type": "code",
   "execution_count": 20,
   "metadata": {},
   "outputs": [
    {
     "name": "stdout",
     "output_type": "stream",
     "text": [
      "['This', '', '', 'fricking', '', '', '', 'word', '', '', 'to', '', '', 'be', '', '', 'seperated']\n"
     ]
    }
   ],
   "source": [
    "string2 = \"This ;,statement ;, word ;,to ;,be ;,seperated\"\n",
    "pattern = r'[;,\\s]'\n",
    "ans = re.split(pattern,string2)\n",
    "print(ans)"
   ]
  },
  {
   "cell_type": "code",
   "execution_count": null,
   "metadata": {},
   "outputs": [],
   "source": [
    "s"
   ]
  }
 ],
 "metadata": {
  "kernelspec": {
   "display_name": "Python 3",
   "language": "python",
   "name": "python3"
  },
  "language_info": {
   "codemirror_mode": {
    "name": "ipython",
    "version": 3
   },
   "file_extension": ".py",
   "mimetype": "text/x-python",
   "name": "python",
   "nbconvert_exporter": "python",
   "pygments_lexer": "ipython3",
   "version": "3.8.2"
  }
 },
 "nbformat": 4,
 "nbformat_minor": 4
}
